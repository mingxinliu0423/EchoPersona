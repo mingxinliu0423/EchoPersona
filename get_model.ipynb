{
 "cells": [
  {
   "cell_type": "code",
   "execution_count": 1,
   "id": "6e109b8d",
   "metadata": {},
   "outputs": [
    {
     "name": "stderr",
     "output_type": "stream",
     "text": [
      "c:\\Users\\kojil\\miniconda3\\envs\\dl\\lib\\site-packages\\huggingface_hub\\file_download.py:943: FutureWarning: `resume_download` is deprecated and will be removed in version 1.0.0. Downloads always resume when possible. If you want to force a new download, use `force_download=True`.\n",
      "  warnings.warn(\n"
     ]
    },
    {
     "data": {
      "application/vnd.jupyter.widget-view+json": {
       "model_id": "0ea4345fa7f34ead9b4083420a6feb0a",
       "version_major": 2,
       "version_minor": 0
      },
      "text/plain": [
       "Fetching 66 files:   0%|          | 0/66 [00:00<?, ?it/s]"
      ]
     },
     "metadata": {},
     "output_type": "display_data"
    },
    {
     "data": {
      "application/vnd.jupyter.widget-view+json": {
       "model_id": "dd285601423749998ff1d85af1c0d751",
       "version_major": 2,
       "version_minor": 0
      },
      "text/plain": [
       "model-00020-of-000055.safetensors:  47%|####7     | 7.76G/16.4G [00:00<?, ?B/s]"
      ]
     },
     "metadata": {},
     "output_type": "display_data"
    },
    {
     "data": {
      "application/vnd.jupyter.widget-view+json": {
       "model_id": "c2168efebb9a4b0c93d6173bf7e64b2e",
       "version_major": 2,
       "version_minor": 0
      },
      "text/plain": [
       "model-00022-of-000055.safetensors:  16%|#6        | 1.70G/10.3G [00:00<?, ?B/s]"
      ]
     },
     "metadata": {},
     "output_type": "display_data"
    },
    {
     "data": {
      "application/vnd.jupyter.widget-view+json": {
       "model_id": "fae66b736c0247d7a7c0e8dc7d2f47cc",
       "version_major": 2,
       "version_minor": 0
      },
      "text/plain": [
       "model-00026-of-000055.safetensors:   5%|5         | 482M/9.09G [00:00<?, ?B/s]"
      ]
     },
     "metadata": {},
     "output_type": "display_data"
    },
    {
     "data": {
      "application/vnd.jupyter.widget-view+json": {
       "model_id": "b42c1189e2204aaca58ef88a2193d2d0",
       "version_major": 2,
       "version_minor": 0
      },
      "text/plain": [
       "model-00018-of-000055.safetensors:  49%|####9     | 8.39G/17.0G [00:00<?, ?B/s]"
      ]
     },
     "metadata": {},
     "output_type": "display_data"
    },
    {
     "data": {
      "application/vnd.jupyter.widget-view+json": {
       "model_id": "33f554119c704b4a8dd674c1bca7856d",
       "version_major": 2,
       "version_minor": 0
      },
      "text/plain": [
       "model-00025-of-000055.safetensors:   9%|8         | 849M/9.45G [00:00<?, ?B/s]"
      ]
     },
     "metadata": {},
     "output_type": "display_data"
    },
    {
     "data": {
      "application/vnd.jupyter.widget-view+json": {
       "model_id": "6c870ab8a57a4b88a5677ada53a46716",
       "version_major": 2,
       "version_minor": 0
      },
      "text/plain": [
       "model-00024-of-000055.safetensors:  17%|#6        | 1.74G/10.3G [00:00<?, ?B/s]"
      ]
     },
     "metadata": {},
     "output_type": "display_data"
    },
    {
     "data": {
      "application/vnd.jupyter.widget-view+json": {
       "model_id": "af2666fb40074024a9d7f9f6ffbe403d",
       "version_major": 2,
       "version_minor": 0
      },
      "text/plain": [
       "model-00021-of-000055.safetensors:  16%|#6        | 1.67G/10.3G [00:00<?, ?B/s]"
      ]
     },
     "metadata": {},
     "output_type": "display_data"
    },
    {
     "data": {
      "application/vnd.jupyter.widget-view+json": {
       "model_id": "a0568730094d4f638e980f8041774f81",
       "version_major": 2,
       "version_minor": 0
      },
      "text/plain": [
       "model-00023-of-000055.safetensors:  19%|#8        | 1.97G/10.6G [00:00<?, ?B/s]"
      ]
     },
     "metadata": {},
     "output_type": "display_data"
    },
    {
     "data": {
      "application/vnd.jupyter.widget-view+json": {
       "model_id": "201134634fdb49f2a87b8d4364a04f46",
       "version_major": 2,
       "version_minor": 0
      },
      "text/plain": [
       "model-00027-of-000055.safetensors:   0%|          | 0.00/8.60G [00:00<?, ?B/s]"
      ]
     },
     "metadata": {},
     "output_type": "display_data"
    },
    {
     "data": {
      "application/vnd.jupyter.widget-view+json": {
       "model_id": "8fea4a959a82498ab26220b1594f07de",
       "version_major": 2,
       "version_minor": 0
      },
      "text/plain": [
       "model-00028-of-000055.safetensors:   0%|          | 0.00/8.60G [00:00<?, ?B/s]"
      ]
     },
     "metadata": {},
     "output_type": "display_data"
    },
    {
     "data": {
      "application/vnd.jupyter.widget-view+json": {
       "model_id": "b83d4f4724324c2c95c46a54569c5681",
       "version_major": 2,
       "version_minor": 0
      },
      "text/plain": [
       "model-00029-of-000055.safetensors:   0%|          | 0.00/8.59G [00:00<?, ?B/s]"
      ]
     },
     "metadata": {},
     "output_type": "display_data"
    },
    {
     "data": {
      "application/vnd.jupyter.widget-view+json": {
       "model_id": "6543e3369e4243939c361a5386b4f344",
       "version_major": 2,
       "version_minor": 0
      },
      "text/plain": [
       "model-00030-of-000055.safetensors:   0%|          | 0.00/8.60G [00:00<?, ?B/s]"
      ]
     },
     "metadata": {},
     "output_type": "display_data"
    },
    {
     "data": {
      "application/vnd.jupyter.widget-view+json": {
       "model_id": "6815459203c940f3a6d39abfb136ff58",
       "version_major": 2,
       "version_minor": 0
      },
      "text/plain": [
       "model-00031-of-000055.safetensors:   0%|          | 0.00/8.60G [00:00<?, ?B/s]"
      ]
     },
     "metadata": {},
     "output_type": "display_data"
    },
    {
     "data": {
      "application/vnd.jupyter.widget-view+json": {
       "model_id": "5086369df728410b8b05aad3efc618bd",
       "version_major": 2,
       "version_minor": 0
      },
      "text/plain": [
       "model-00032-of-000055.safetensors:   0%|          | 0.00/8.60G [00:00<?, ?B/s]"
      ]
     },
     "metadata": {},
     "output_type": "display_data"
    },
    {
     "data": {
      "application/vnd.jupyter.widget-view+json": {
       "model_id": "62b58e8ea6974f6e9dc82858758442ac",
       "version_major": 2,
       "version_minor": 0
      },
      "text/plain": [
       "model-00033-of-000055.safetensors:   0%|          | 0.00/8.60G [00:00<?, ?B/s]"
      ]
     },
     "metadata": {},
     "output_type": "display_data"
    },
    {
     "data": {
      "application/vnd.jupyter.widget-view+json": {
       "model_id": "557e335417e749f9a53d3e94adb9aa04",
       "version_major": 2,
       "version_minor": 0
      },
      "text/plain": [
       "model-00034-of-000055.safetensors:   0%|          | 0.00/8.60G [00:00<?, ?B/s]"
      ]
     },
     "metadata": {},
     "output_type": "display_data"
    },
    {
     "data": {
      "application/vnd.jupyter.widget-view+json": {
       "model_id": "21cc9883d1544aa3a643dbb5102f5bdb",
       "version_major": 2,
       "version_minor": 0
      },
      "text/plain": [
       "model-00035-of-000055.safetensors:   0%|          | 0.00/8.60G [00:00<?, ?B/s]"
      ]
     },
     "metadata": {},
     "output_type": "display_data"
    },
    {
     "data": {
      "application/vnd.jupyter.widget-view+json": {
       "model_id": "7f540e63dcaa49b796731328a246d17a",
       "version_major": 2,
       "version_minor": 0
      },
      "text/plain": [
       "model-00036-of-000055.safetensors:   0%|          | 0.00/8.60G [00:00<?, ?B/s]"
      ]
     },
     "metadata": {},
     "output_type": "display_data"
    },
    {
     "data": {
      "application/vnd.jupyter.widget-view+json": {
       "model_id": "b117bb806c1e4010822aa519c4427b4b",
       "version_major": 2,
       "version_minor": 0
      },
      "text/plain": [
       "model-00037-of-000055.safetensors:   0%|          | 0.00/8.60G [00:00<?, ?B/s]"
      ]
     },
     "metadata": {},
     "output_type": "display_data"
    },
    {
     "data": {
      "application/vnd.jupyter.widget-view+json": {
       "model_id": "4588096122c940bcb0f876758e1252eb",
       "version_major": 2,
       "version_minor": 0
      },
      "text/plain": [
       "model-00038-of-000055.safetensors:   0%|          | 0.00/8.60G [00:00<?, ?B/s]"
      ]
     },
     "metadata": {},
     "output_type": "display_data"
    },
    {
     "data": {
      "application/vnd.jupyter.widget-view+json": {
       "model_id": "ea8bdd37a94f4583aabe12ddff2498f7",
       "version_major": 2,
       "version_minor": 0
      },
      "text/plain": [
       "model-00039-of-000055.safetensors:   0%|          | 0.00/8.60G [00:00<?, ?B/s]"
      ]
     },
     "metadata": {},
     "output_type": "display_data"
    },
    {
     "data": {
      "application/vnd.jupyter.widget-view+json": {
       "model_id": "323bbb54c1b84f2eb585c0ff675d55a6",
       "version_major": 2,
       "version_minor": 0
      },
      "text/plain": [
       "model-00040-of-000055.safetensors:   0%|          | 0.00/8.60G [00:00<?, ?B/s]"
      ]
     },
     "metadata": {},
     "output_type": "display_data"
    },
    {
     "data": {
      "application/vnd.jupyter.widget-view+json": {
       "model_id": "b36cb60b4c9542faaf64187a818d9853",
       "version_major": 2,
       "version_minor": 0
      },
      "text/plain": [
       "model-00041-of-000055.safetensors:   0%|          | 0.00/8.59G [00:00<?, ?B/s]"
      ]
     },
     "metadata": {},
     "output_type": "display_data"
    },
    {
     "data": {
      "application/vnd.jupyter.widget-view+json": {
       "model_id": "e8f597243f954005a9b3ed852165f85a",
       "version_major": 2,
       "version_minor": 0
      },
      "text/plain": [
       "model-00042-of-000055.safetensors:   0%|          | 0.00/8.60G [00:00<?, ?B/s]"
      ]
     },
     "metadata": {},
     "output_type": "display_data"
    },
    {
     "data": {
      "application/vnd.jupyter.widget-view+json": {
       "model_id": "909690e507614a9e937c9431b09d285e",
       "version_major": 2,
       "version_minor": 0
      },
      "text/plain": [
       "model-00043-of-000055.safetensors:   0%|          | 0.00/8.60G [00:00<?, ?B/s]"
      ]
     },
     "metadata": {},
     "output_type": "display_data"
    },
    {
     "data": {
      "application/vnd.jupyter.widget-view+json": {
       "model_id": "fcada4d9501449e29adbc6e0fa9105d1",
       "version_major": 2,
       "version_minor": 0
      },
      "text/plain": [
       "model-00044-of-000055.safetensors:   0%|          | 0.00/8.60G [00:00<?, ?B/s]"
      ]
     },
     "metadata": {},
     "output_type": "display_data"
    },
    {
     "data": {
      "application/vnd.jupyter.widget-view+json": {
       "model_id": "cf345af10bf54a08975f242d43ce9cbd",
       "version_major": 2,
       "version_minor": 0
      },
      "text/plain": [
       "model-00045-of-000055.safetensors:   0%|          | 0.00/8.60G [00:00<?, ?B/s]"
      ]
     },
     "metadata": {},
     "output_type": "display_data"
    },
    {
     "data": {
      "application/vnd.jupyter.widget-view+json": {
       "model_id": "2ea0369b4a164422babaa3271164c46e",
       "version_major": 2,
       "version_minor": 0
      },
      "text/plain": [
       "model-00046-of-000055.safetensors:   0%|          | 0.00/8.60G [00:00<?, ?B/s]"
      ]
     },
     "metadata": {},
     "output_type": "display_data"
    },
    {
     "data": {
      "application/vnd.jupyter.widget-view+json": {
       "model_id": "dcfbbb3b0352453e909eca0409e1e2fc",
       "version_major": 2,
       "version_minor": 0
      },
      "text/plain": [
       "model-00047-of-000055.safetensors:   0%|          | 0.00/8.60G [00:00<?, ?B/s]"
      ]
     },
     "metadata": {},
     "output_type": "display_data"
    },
    {
     "data": {
      "application/vnd.jupyter.widget-view+json": {
       "model_id": "206162e893a74202b74290678d218c09",
       "version_major": 2,
       "version_minor": 0
      },
      "text/plain": [
       "model-00048-of-000055.safetensors:   0%|          | 0.00/8.60G [00:00<?, ?B/s]"
      ]
     },
     "metadata": {},
     "output_type": "display_data"
    },
    {
     "data": {
      "application/vnd.jupyter.widget-view+json": {
       "model_id": "f74b9a83cdf24470a4c90511697b8f6f",
       "version_major": 2,
       "version_minor": 0
      },
      "text/plain": [
       "model-00049-of-000055.safetensors:   0%|          | 0.00/8.60G [00:00<?, ?B/s]"
      ]
     },
     "metadata": {},
     "output_type": "display_data"
    },
    {
     "data": {
      "application/vnd.jupyter.widget-view+json": {
       "model_id": "136c6cd74adc46f2ab6d24bd3b3cc198",
       "version_major": 2,
       "version_minor": 0
      },
      "text/plain": [
       "model-00050-of-000055.safetensors:   0%|          | 0.00/8.60G [00:00<?, ?B/s]"
      ]
     },
     "metadata": {},
     "output_type": "display_data"
    },
    {
     "data": {
      "application/vnd.jupyter.widget-view+json": {
       "model_id": "17acc750580648d88ea5011c103fd1fb",
       "version_major": 2,
       "version_minor": 0
      },
      "text/plain": [
       "model-00051-of-000055.safetensors:   0%|          | 0.00/8.60G [00:00<?, ?B/s]"
      ]
     },
     "metadata": {},
     "output_type": "display_data"
    },
    {
     "data": {
      "application/vnd.jupyter.widget-view+json": {
       "model_id": "908d2fa19dbe4b9ebb5d0a32f081005b",
       "version_major": 2,
       "version_minor": 0
      },
      "text/plain": [
       "model-00052-of-000055.safetensors:   0%|          | 0.00/8.60G [00:00<?, ?B/s]"
      ]
     },
     "metadata": {},
     "output_type": "display_data"
    },
    {
     "data": {
      "application/vnd.jupyter.widget-view+json": {
       "model_id": "19f808d6491a46cdaadfa0b5e7768557",
       "version_major": 2,
       "version_minor": 0
      },
      "text/plain": [
       "model-00053-of-000055.safetensors:   0%|          | 0.00/8.61G [00:00<?, ?B/s]"
      ]
     },
     "metadata": {},
     "output_type": "display_data"
    },
    {
     "data": {
      "application/vnd.jupyter.widget-view+json": {
       "model_id": "752b39d60f8049f08dcfef00e71221ef",
       "version_major": 2,
       "version_minor": 0
      },
      "text/plain": [
       "model-00054-of-000055.safetensors:   0%|          | 0.00/8.60G [00:00<?, ?B/s]"
      ]
     },
     "metadata": {},
     "output_type": "display_data"
    },
    {
     "data": {
      "application/vnd.jupyter.widget-view+json": {
       "model_id": "29807cc3c05d4a4f90145e454c4b0350",
       "version_major": 2,
       "version_minor": 0
      },
      "text/plain": [
       "model-00055-of-000055.safetensors:   0%|          | 0.00/6.89G [00:00<?, ?B/s]"
      ]
     },
     "metadata": {},
     "output_type": "display_data"
    },
    {
     "data": {
      "application/vnd.jupyter.widget-view+json": {
       "model_id": "4fe9623fa8b4456a94471277d19c87fe",
       "version_major": 2,
       "version_minor": 0
      },
      "text/plain": [
       "model.safetensors.index.json:   0%|          | 0.00/2.66M [00:00<?, ?B/s]"
      ]
     },
     "metadata": {},
     "output_type": "display_data"
    },
    {
     "data": {
      "application/vnd.jupyter.widget-view+json": {
       "model_id": "a03a2005af4942c4b1107506cdfff0d2",
       "version_major": 2,
       "version_minor": 0
      },
      "text/plain": [
       "modeling_deepseek.py:   0%|          | 0.00/78.1k [00:00<?, ?B/s]"
      ]
     },
     "metadata": {},
     "output_type": "display_data"
    },
    {
     "data": {
      "application/vnd.jupyter.widget-view+json": {
       "model_id": "024723d0fa744c82a69a4d6f628ccd2a",
       "version_major": 2,
       "version_minor": 0
      },
      "text/plain": [
       "tokenization_deepseek_fast.py:   0%|          | 0.00/1.37k [00:00<?, ?B/s]"
      ]
     },
     "metadata": {},
     "output_type": "display_data"
    },
    {
     "data": {
      "application/vnd.jupyter.widget-view+json": {
       "model_id": "9f7ba5f636ad42d5bdb4e2623e257881",
       "version_major": 2,
       "version_minor": 0
      },
      "text/plain": [
       "tokenizer.json:   0%|          | 0.00/4.61M [00:00<?, ?B/s]"
      ]
     },
     "metadata": {},
     "output_type": "display_data"
    },
    {
     "data": {
      "application/vnd.jupyter.widget-view+json": {
       "model_id": "4492c14731784c56b2a76bc882497f1f",
       "version_major": 2,
       "version_minor": 0
      },
      "text/plain": [
       "tokenizer_config.json:   0%|          | 0.00/1.28k [00:00<?, ?B/s]"
      ]
     },
     "metadata": {},
     "output_type": "display_data"
    },
    {
     "data": {
      "text/plain": [
       "'C:\\\\Users\\\\kojil\\\\Desktop\\\\EchoPersona\\\\models\\\\DeepSeek-V2-Chat'"
      ]
     },
     "execution_count": 1,
     "metadata": {},
     "output_type": "execute_result"
    }
   ],
   "source": [
    "from huggingface_hub import snapshot_download\n",
    "\n",
    "snapshot_download(\n",
    "    repo_id=\"deepseek-ai/DeepSeek-V2-Chat\",\n",
    "    local_dir=\"./models/DeepSeek-V2-Chat\",\n",
    "    resume_download=True,\n",
    "    force_download=False\n",
    ")\n"
   ]
  },
  {
   "cell_type": "code",
   "execution_count": null,
   "id": "d3bbaac1",
   "metadata": {},
   "outputs": [],
   "source": []
  }
 ],
 "metadata": {
  "kernelspec": {
   "display_name": "Python (dl)",
   "language": "python",
   "name": "dl"
  },
  "language_info": {
   "codemirror_mode": {
    "name": "ipython",
    "version": 3
   },
   "file_extension": ".py",
   "mimetype": "text/x-python",
   "name": "python",
   "nbconvert_exporter": "python",
   "pygments_lexer": "ipython3",
   "version": "3.10.18"
  }
 },
 "nbformat": 4,
 "nbformat_minor": 5
}
